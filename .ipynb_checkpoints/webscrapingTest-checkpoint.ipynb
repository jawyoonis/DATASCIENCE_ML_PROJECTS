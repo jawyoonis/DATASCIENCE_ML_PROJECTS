{
 "cells": [
  {
   "cell_type": "markdown",
   "metadata": {},
   "source": []
  },
  {
   "cell_type": "code",
   "execution_count": 28,
   "metadata": {},
   "outputs": [],
   "source": [
    "from bs4 import BeautifulSoup"
   ]
  },
  {
   "cell_type": "code",
   "execution_count": 45,
   "metadata": {},
   "outputs": [],
   "source": [
    "htmls_source= \"\"\"\n",
    "<!doctype html>\n",
    "<html dir=\"ltr\" lang=\"en\">\n",
    "  <head>\n",
    "    <meta charset=\"utf-8\">\n",
    "    <title>New Tab</title>\n",
    "    <style>\n",
    "      body {\n",
    "        background: #FFFFFF;\n",
    "        margin: 0;\n",
    "      }\n",
    "\n",
    "      #backgroundImage {\n",
    "        border: none;\n",
    "        height: 100%;\n",
    "        pointer-events: none;\n",
    "        position: fixed;\n",
    "        top: 0;\n",
    "        visibility: hidden;\n",
    "        width: 100%;\n",
    "      }\n",
    "\n",
    "      [show-background-image] #backgroundImage {\n",
    "        visibility: visible;\n",
    "      }\n",
    "    </style>\n",
    "  </head>\n",
    "  <body>\n",
    "    <iframe id=\"backgroundImage\" src=\"\"></iframe>\n",
    "    <ntp-app></ntp-app>\n",
    "    <script type=\"module\" src=\"new_tab_page.js\"></script>\n",
    "    <link rel=\"stylesheet\" href=\"chrome://resources/css/text_defaults_md.css\">\n",
    "    <link rel=\"stylesheet\" href=\"chrome://theme/colors.css?sets=ui,chrome\">\n",
    "    <link rel=\"stylesheet\" href=\"shared_vars.css\">\n",
    "  </body>\n",
    "</html>\n",
    "\n",
    "\"\"\""
   ]
  },
  {
   "cell_type": "code",
   "execution_count": 50,
   "metadata": {},
   "outputs": [
    {
     "data": {
      "text/html": [
       "\n",
       "<!doctype html>\n",
       "<html dir=\"ltr\" lang=\"en\">\n",
       "  <head>\n",
       "    <meta charset=\"utf-8\">\n",
       "    <title>New Tab</title>\n",
       "    <style>\n",
       "      body {\n",
       "        background: #FFFFFF;\n",
       "        margin: 0;\n",
       "      }\n",
       "\n",
       "      #backgroundImage {\n",
       "        border: none;\n",
       "        height: 100%;\n",
       "        pointer-events: none;\n",
       "        position: fixed;\n",
       "        top: 0;\n",
       "        visibility: hidden;\n",
       "        width: 100%;\n",
       "      }\n",
       "\n",
       "      [show-background-image] #backgroundImage {\n",
       "        visibility: visible;\n",
       "      }\n",
       "    </style>\n",
       "  </head>\n",
       "  <body>\n",
       "    <iframe id=\"backgroundImage\" src=\"\"></iframe>\n",
       "    <ntp-app></ntp-app>\n",
       "    <script type=\"module\" src=\"new_tab_page.js\"></script>\n",
       "    <link rel=\"stylesheet\" href=\"chrome://resources/css/text_defaults_md.css\">\n",
       "    <link rel=\"stylesheet\" href=\"chrome://theme/colors.css?sets=ui,chrome\">\n",
       "    <link rel=\"stylesheet\" href=\"shared_vars.css\">\n",
       "  </body>\n",
       "</html>\n",
       "\n"
      ],
      "text/plain": [
       "<IPython.core.display.HTML object>"
      ]
     },
     "metadata": {},
     "output_type": "display_data"
    },
    {
     "name": "stdout",
     "output_type": "stream",
     "text": [
      "None\n"
     ]
    }
   ],
   "source": [
    "from IPython.core.display import display, HTML\n",
    "test= display(HTML(htmls_source))\n",
    "print(test)"
   ]
  },
  {
   "cell_type": "code",
   "execution_count": 47,
   "metadata": {},
   "outputs": [],
   "source": [
    "bs=BeautifulSoup(htmls_source)"
   ]
  },
  {
   "cell_type": "code",
   "execution_count": 48,
   "metadata": {},
   "outputs": [
    {
     "name": "stdout",
     "output_type": "stream",
     "text": [
      "\n",
      "<!DOCTYPE html>\n",
      "\n",
      "<html dir=\"ltr\" lang=\"en\">\n",
      "<head>\n",
      "<meta charset=\"utf-8\"/>\n",
      "<title>New Tab</title>\n",
      "<style>\n",
      "      body {\n",
      "        background: #FFFFFF;\n",
      "        margin: 0;\n",
      "      }\n",
      "\n",
      "      #backgroundImage {\n",
      "        border: none;\n",
      "        height: 100%;\n",
      "        pointer-events: none;\n",
      "        position: fixed;\n",
      "        top: 0;\n",
      "        visibility: hidden;\n",
      "        width: 100%;\n",
      "      }\n",
      "\n",
      "      [show-background-image] #backgroundImage {\n",
      "        visibility: visible;\n",
      "      }\n",
      "    </style>\n",
      "</head>\n",
      "<body>\n",
      "<iframe id=\"backgroundImage\" src=\"\"></iframe>\n",
      "<ntp-app></ntp-app>\n",
      "<script src=\"new_tab_page.js\" type=\"module\"></script>\n",
      "<link href=\"chrome://resources/css/text_defaults_md.css\" rel=\"stylesheet\"/>\n",
      "<link href=\"chrome://theme/colors.css?sets=ui,chrome\" rel=\"stylesheet\"/>\n",
      "<link href=\"shared_vars.css\" rel=\"stylesheet\"/>\n",
      "</body>\n",
      "</html>\n",
      "\n"
     ]
    }
   ],
   "source": [
    "print(bs)"
   ]
  },
  {
   "cell_type": "code",
   "execution_count": 61,
   "metadata": {},
   "outputs": [],
   "source": [
    "body= bs.find(name=\"body\")"
   ]
  },
  {
   "cell_type": "code",
   "execution_count": 64,
   "metadata": {},
   "outputs": [
    {
     "name": "stdout",
     "output_type": "stream",
     "text": [
      "[<script src=\"new_tab_page.js\" type=\"module\"></script>]\n"
     ]
    }
   ],
   "source": [
    "print(body.findAll(name=\"script\"))"
   ]
  },
  {
   "cell_type": "code",
   "execution_count": null,
   "metadata": {},
   "outputs": [],
   "source": []
  },
  {
   "cell_type": "code",
   "execution_count": null,
   "metadata": {},
   "outputs": [],
   "source": []
  }
 ],
 "metadata": {
  "kernelspec": {
   "display_name": "Python 2",
   "language": "python",
   "name": "python2"
  },
  "language_info": {
   "codemirror_mode": {
    "name": "ipython",
    "version": 2
   },
   "file_extension": ".py",
   "mimetype": "text/x-python",
   "name": "python",
   "nbconvert_exporter": "python",
   "pygments_lexer": "ipython2",
   "version": "2.7.15"
  }
 },
 "nbformat": 4,
 "nbformat_minor": 1
}
