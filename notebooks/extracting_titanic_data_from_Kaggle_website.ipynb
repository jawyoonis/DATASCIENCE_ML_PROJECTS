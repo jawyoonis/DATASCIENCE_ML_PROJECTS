{
 "cells": [
  {
   "cell_type": "code",
   "execution_count": 57,
   "id": "93d678ac",
   "metadata": {},
   "outputs": [],
   "source": [
    "from dotenv import load_dotenv, find_dotenv"
   ]
  },
  {
   "cell_type": "code",
   "execution_count": 65,
   "id": "041173fd",
   "metadata": {},
   "outputs": [
    {
     "data": {
      "text/plain": [
       "True"
      ]
     },
     "execution_count": 65,
     "metadata": {},
     "output_type": "execute_result"
    }
   ],
   "source": [
    "#find .env automatically by walking directories until it's found\n",
    "load_path= find_dotenv()\n",
    "load_dotenv(load_path)"
   ]
  },
  {
   "cell_type": "code",
   "execution_count": 66,
   "id": "8da03a7b",
   "metadata": {},
   "outputs": [],
   "source": [
    "import os \n",
    "KAGGLE_USERNAME= os.environ.get(\"KAGGLE_PASSWORD\")"
   ]
  },
  {
   "cell_type": "code",
   "execution_count": 67,
   "id": "68772706",
   "metadata": {},
   "outputs": [],
   "source": [
    "import requests"
   ]
  },
  {
   "cell_type": "code",
   "execution_count": 68,
   "id": "c90f04c9",
   "metadata": {},
   "outputs": [],
   "source": [
    "from requests import session \n",
    "import os\n",
    "from dotenv import load_dotenv, find_dotenv"
   ]
  },
  {
   "cell_type": "code",
   "execution_count": 69,
   "id": "50478b36",
   "metadata": {},
   "outputs": [
    {
     "name": "stdout",
     "output_type": "stream",
     "text": [
      "<Response [200]>\n"
     ]
    }
   ],
   "source": [
    "payload={\n",
    "    'action':'login',\n",
    "    'username': os.environ.get(\"KAGGLE_USERNAME\"),\n",
    "    'password':os.environ.get(\"KAGGLE_PASSWORD\")\n",
    "    \n",
    "}\n",
    "url= 'https://www.kaggle.com/c/titanic/titanic/donwload?select=test.csv'\n",
    "\n",
    "with session() as c:\n",
    "    c.post('https://www.kaggle.com/account/login', data=payload)\n",
    "    response=c.get(url)\n",
    "    print(response)"
   ]
  },
  {
   "cell_type": "code",
   "execution_count": null,
   "id": "39f991a2",
   "metadata": {},
   "outputs": [],
   "source": []
  },
  {
   "cell_type": "code",
   "execution_count": null,
   "id": "5f4cb36a",
   "metadata": {},
   "outputs": [],
   "source": []
  },
  {
   "cell_type": "code",
   "execution_count": null,
   "id": "2cf5ff13",
   "metadata": {},
   "outputs": [],
   "source": []
  },
  {
   "cell_type": "code",
   "execution_count": null,
   "id": "bd445202",
   "metadata": {},
   "outputs": [],
   "source": []
  }
 ],
 "metadata": {
  "kernelspec": {
   "display_name": "Python 3",
   "language": "python",
   "name": "python3"
  },
  "language_info": {
   "codemirror_mode": {
    "name": "ipython",
    "version": 3
   },
   "file_extension": ".py",
   "mimetype": "text/x-python",
   "name": "python",
   "nbconvert_exporter": "python",
   "pygments_lexer": "ipython3",
   "version": "3.6.8"
  }
 },
 "nbformat": 4,
 "nbformat_minor": 5
}
